{
 "cells": [
  {
   "cell_type": "markdown",
   "metadata": {},
   "source": [
    "# Ramsey-Cass-Koopmans model\n",
    "\n",
    "Ramsey model from Chapter 2 of D. Romer's *Advanced Economics* looks as follows...\n",
    "\n",
    "\\begin{align}\n",
    "    \\dot{k}(t) =& k(t)^{\\alpha} - c(t) - (g + n + \\delta)k(t),\\\\\n",
    "    k(0) =& k_0 \\\\\n",
    "    \\dot{c}(t) =& \\Bigg[\\frac{1}{\\theta} \\bigg[\\alpha k(t)^{\\alpha - 1} - \\delta - \\rho - \\theta g\\bigg]\\Bigg]c(t),\\\\\n",
    "    lim_{t\\rightarrow \\infty} c(t) =& c^*\n",
    "\\end{align}\n",
    "\n",
    "...where...\n",
    "\n",
    "* Elasticity of output with respect to catpial: $0 < \\alpha < 1$\n",
    "* Coefficient of relative risk aversion: $0 < \\theta$\n",
    "* Discount rate: $0 < \\rho$\n",
    "* Breakeven investment: $0 < g + n + \\delta$\n",
    "* Convergent lifetime utility: $0 < \\rho - n - (1 - \\theta)g$\n",
    "\n",
    "Note that we are assuming two things...\n",
    "\n",
    "1. Cobb-Douglas production\n",
    "2. Constant Relative Risk Aversion (CRRA) preferences\n",
    "\n"
   ]
  },
  {
   "cell_type": "code",
   "execution_count": 128,
   "metadata": {
    "collapsed": true
   },
   "outputs": [],
   "source": [
    "%matplotlib inline\n",
    "\n",
    "import numpy as np\n",
    "import matplotlib.pyplot as plt\n",
    "import seaborn as sn\n",
    "import sympy as sym\n",
    "\n",
    "import pycollocation\n"
   ]
  },
  {
   "cell_type": "code",
   "execution_count": 129,
   "metadata": {
    "collapsed": true
   },
   "outputs": [],
   "source": [
    "# define the variables\n",
    "t, k , c = sym.symbols(\"t, k, c\")"
   ]
  },
  {
   "cell_type": "code",
   "execution_count": 130,
   "metadata": {
    "collapsed": false
   },
   "outputs": [
    {
     "data": {
      "text/plain": [
       "sympy.core.symbol.Symbol"
      ]
     },
     "execution_count": 130,
     "metadata": {},
     "output_type": "execute_result"
    }
   ],
   "source": [
    "type(t)"
   ]
  },
  {
   "cell_type": "code",
   "execution_count": 131,
   "metadata": {
    "collapsed": true
   },
   "outputs": [],
   "source": [
    "# define some production parameters\n",
    "alpha, delta = sym.symbols(\"alpha, delta\")\n",
    "\n",
    "# define growth rates\n",
    "g, n = sym.symbols(\"g, n\")\n",
    "\n",
    "# define some preferenece parameters\n",
    "theta, rho = sym.symbols(\"theta, rho\")"
   ]
  },
  {
   "cell_type": "code",
   "execution_count": 132,
   "metadata": {
    "collapsed": false
   },
   "outputs": [
    {
     "name": "stdout",
     "output_type": "stream",
     "text": [
      "k**alpha\n"
     ]
    }
   ],
   "source": [
    "# define a production function\n",
    "f = k** alpha \n",
    "\n",
    "print f"
   ]
  },
  {
   "cell_type": "code",
   "execution_count": 133,
   "metadata": {
    "collapsed": false
   },
   "outputs": [
    {
     "name": "stdout",
     "output_type": "stream",
     "text": [
      "(c**(-theta + 1) - 1)/(-theta + 1)\n"
     ]
    }
   ],
   "source": [
    "# define a flow of utility function\n",
    "u = (c**(1 - theta) -1) / (1 - theta)\n",
    "\n",
    "print u"
   ]
  },
  {
   "cell_type": "code",
   "execution_count": 134,
   "metadata": {
    "collapsed": false
   },
   "outputs": [
    {
     "name": "stdout",
     "output_type": "stream",
     "text": [
      "-c - k*(delta + g + n) + k**alpha\n"
     ]
    }
   ],
   "source": [
    "# define the equation of motion for capital (per unit effective labor)\n",
    "k_dot = f - c - (g + n + delta) * k\n",
    "print k_dot"
   ]
  },
  {
   "cell_type": "code",
   "execution_count": 135,
   "metadata": {
    "collapsed": false
   },
   "outputs": [
    {
     "name": "stdout",
     "output_type": "stream",
     "text": [
      "c*(alpha*k**(alpha - 1) - delta - g*theta - rho)/theta\n"
     ]
    }
   ],
   "source": [
    "# define the Euler equation\n",
    "c_dot = ((1 / theta) * (alpha * k ** (alpha - 1) - delta - rho - theta * g))* c \n",
    "\n",
    "print c_dot"
   ]
  },
  {
   "cell_type": "code",
   "execution_count": 136,
   "metadata": {
    "collapsed": false
   },
   "outputs": [
    {
     "name": "stdout",
     "output_type": "stream",
     "text": [
      "{'k': -c - k*(delta + g + n) + k**alpha, 'c': c*(alpha*k**(alpha - 1) - delta - g*theta - rho)/theta}\n"
     ]
    }
   ],
   "source": [
    "# create a dictionary representing the RHS of our model \n",
    "rhs = {'k' : k_dot, 'c': c_dot}\n",
    "\n",
    "print rhs"
   ]
  },
  {
   "cell_type": "code",
   "execution_count": 137,
   "metadata": {
    "collapsed": false
   },
   "outputs": [
    {
     "name": "stdout",
     "output_type": "stream",
     "text": [
      "(alpha*g/(delta + rho + theta))**(1/(-alpha + 1))\n"
     ]
    }
   ],
   "source": [
    "# define a steady state value for capital\n",
    "k_star= (alpha / (delta + rho + theta) * g) ** (1 / (1 - alpha))\n",
    "\n",
    "print k_star"
   ]
  },
  {
   "cell_type": "markdown",
   "metadata": {},
   "source": [
    "..Now we do the same for consumption..\n",
    "(This is a textcell)"
   ]
  },
  {
   "cell_type": "code",
   "execution_count": 138,
   "metadata": {
    "collapsed": false
   },
   "outputs": [
    {
     "name": "stdout",
     "output_type": "stream",
     "text": [
      "-(alpha*g/(delta + rho + theta))**(1/(-alpha + 1))*(delta + g + n) + ((alpha*g/(delta + rho + theta))**(1/(-alpha + 1)))**alpha\n"
     ]
    }
   ],
   "source": [
    "# define a steady state value for capital\n",
    "c_star= k_star ** alpha - ( g + n + delta) * k_star\n",
    "\n",
    "print c_star"
   ]
  },
  {
   "cell_type": "code",
   "execution_count": 139,
   "metadata": {
    "collapsed": false
   },
   "outputs": [
    {
     "name": "stdout",
     "output_type": "stream",
     "text": [
      "{'upper': [c + (alpha*g/(delta + rho + theta))**(1/(-alpha + 1))*(delta + g + n) - ((alpha*g/(delta + rho + theta))**(1/(-alpha + 1)))**alpha], 'lower': [k - 1.0]}\n"
     ]
    }
   ],
   "source": [
    "# define some boundary conditions\n",
    "k0 = 1.0\n",
    "bcs = {'lower': [k - k0], 'upper' : [c - c_star] }\n",
    "\n",
    "print bcs "
   ]
  },
  {
   "cell_type": "code",
   "execution_count": 140,
   "metadata": {
    "collapsed": false
   },
   "outputs": [
    {
     "data": {
      "text/plain": [
       "5.084580947867504"
      ]
     },
     "execution_count": 140,
     "metadata": {},
     "output_type": "execute_result"
    }
   ],
   "source": [
    "numeric_k_star(**params)"
   ]
  },
  {
   "cell_type": "code",
   "execution_count": 141,
   "metadata": {
    "collapsed": false
   },
   "outputs": [
    {
     "name": "stdout",
     "output_type": "stream",
     "text": [
      "{'g': 0.02, 'delta': 0.04, 'n': 0.02, 'rho': 0.05, 'theta': 1.05, 'alpha': 0.33}\n"
     ]
    }
   ],
   "source": [
    "# Now we are ready to define some other parameters \n",
    "params = {'alpha': 0.33 , 'delta' : 0.04 , 'theta': 1.05, 'rho' : 0.05, 'g' : 0.02, 'n' : 0.02 }\n",
    "\n",
    "print params"
   ]
  },
  {
   "cell_type": "markdown",
   "metadata": {},
   "source": [
    "# Using pyCollation"
   ]
  },
  {
   "cell_type": "code",
   "execution_count": 142,
   "metadata": {
    "collapsed": false
   },
   "outputs": [],
   "source": [
    "model = pycollocation.SymbolicBoundaryValueProblem(dependent_vars=['k', 'c'],\n",
    "                                                  independent_var='t',\n",
    "                                                  rhs=rhs,\n",
    "                                                  boundary_conditions=bcs,\n",
    "                                                  params=params)"
   ]
  },
  {
   "cell_type": "code",
   "execution_count": 143,
   "metadata": {
    "collapsed": true
   },
   "outputs": [],
   "source": [
    "solver = pycollocation.OrthogonalPolynomialSolver(model)"
   ]
  },
  {
   "cell_type": "code",
   "execution_count": 144,
   "metadata": {
    "collapsed": false
   },
   "outputs": [],
   "source": [
    "# numeric version of steady state capital\n",
    "def numeric_k_star(alpha, delta, theta, rho, g, n) : \n",
    "    return (alpha / (delta + rho + theta * g)) ** (1/ (1 - alpha))"
   ]
  },
  {
   "cell_type": "code",
   "execution_count": 145,
   "metadata": {
    "collapsed": false
   },
   "outputs": [],
   "source": [
    "# define our domain of approximation\n",
    "domain = [0.0, 100.0]\n",
    "\n",
    "N = 1000\n",
    "ts = np.linspace(domain[0], domain[1], N) \n",
    "ks = numeric_k_star(** params) - (numeric_k_star(** params) - k0) * np.exp(-ts)\n",
    "initial_capital_polynomial = np.polynomial.Chebyshev.fit(ts, ks,  35, domain)\n",
    "\n",
    "# initial guess for consumption\n",
    "cs = np.log(ks)\n",
    "initial_consumption_polynomial = np.polynomial.Chebyshev.fit(ts, cs,  35, domain)\n",
    "\n",
    "# creat a dictionary of the coefs of our polynomials\n",
    "initial_guess = { 'k' : initial_capital_polynomial.coef,\n",
    "                  'c' : initial_consumption_polynomial.coef}"
   ]
  },
  {
   "cell_type": "code",
   "execution_count": 146,
   "metadata": {
    "collapsed": false
   },
   "outputs": [
    {
     "data": {
      "text/plain": [
       "  status: 1\n",
       " success: True\n",
       "     qtf: array([ -7.28789085e-11,  -3.47175626e-11,   6.76142099e-11,\n",
       "         1.20733913e-10,  -8.96096343e-12,   1.19007258e-10,\n",
       "         5.22511970e-11,  -1.71851433e-11,   1.07924368e-10,\n",
       "         1.23391589e-10,   1.59421605e-10,   1.69548578e-10,\n",
       "         2.63002739e-10,  -1.98335375e-10,   3.37835002e-10,\n",
       "        -1.16276023e-10,  -3.28716385e-10,   5.50598183e-11,\n",
       "         3.18515046e-10,   5.07022311e-11,  -2.54815163e-10,\n",
       "        -7.27366232e-11,  -1.80618723e-10,  -1.02017296e-10,\n",
       "        -1.19251401e-10,  -1.12126157e-10,   4.99560265e-11,\n",
       "         6.72513747e-11,   3.03041138e-11,   7.98572250e-11,\n",
       "        -2.16116029e-12,  -3.64021942e-11,   5.13271283e-12,\n",
       "        -1.07578431e-11,   9.39971833e-12,   2.56217496e-11,\n",
       "        -4.63117683e-11,   1.67652800e-11,  -2.35727213e-11,\n",
       "        -4.54269507e-11,  -2.02574072e-11,  -9.50013027e-11,\n",
       "        -6.35491500e-12,   6.70709584e-11,  -4.44528782e-11,\n",
       "         6.84435692e-12,  -5.32898674e-11,  -6.37557417e-11,\n",
       "        -9.10611497e-11,   9.04166129e-11,   1.02926037e-10,\n",
       "        -8.93935886e-11,   1.21726871e-10,   7.43342747e-11,\n",
       "         1.22738216e-10,  -4.79071365e-11,  -1.17473243e-10,\n",
       "         2.21358139e-11,  -9.85369099e-11,  -2.07656200e-12,\n",
       "        -7.77312895e-11,   1.81001109e-11,  -5.82510850e-11,\n",
       "         2.08147183e-11,   3.42088863e-11,  -2.58726535e-11,\n",
       "        -2.25964230e-11,   2.01931755e-11,  -9.59439732e-12,\n",
       "         1.89826942e-11,   4.98884313e-12,  -1.60977169e-11])\n",
       "    nfev: 164\n",
       "       r: array([ 1.11762603, -1.08124756,  1.18150689, ...,  5.73850712,\n",
       "       -0.06801888, -5.75383237])\n",
       "     fun: array([  1.84852134e-14,   4.57411886e-14,   5.98077143e-13,\n",
       "         1.27176047e-13,   2.87936341e-13,   4.27324842e-13,\n",
       "        -3.16996429e-13,  -4.63545868e-13,  -2.53963517e-15,\n",
       "         3.97723521e-13,   3.79307696e-13,   2.48447096e-13,\n",
       "         2.17971474e-13,   1.19106114e-12,   3.42433026e-12,\n",
       "         6.85608514e-12,   8.58269011e-12,  -8.27560243e-13,\n",
       "         1.80055970e-12,   2.05306883e-11,   8.26982927e-12,\n",
       "        -3.90587562e-12,  -3.83504339e-12,  -1.73661086e-12,\n",
       "        -1.45417012e-12,  -2.19380070e-13,  -4.79616347e-14,\n",
       "         3.58379992e-13,  -6.27942143e-13,  -1.20792265e-13,\n",
       "        -1.27087230e-12,  -2.54796184e-13,   1.53577151e-12,\n",
       "         2.62789790e-13,  -4.51638726e-13,   5.66213743e-15,\n",
       "         1.40623624e-13,  -2.79762324e-13,  -6.27831120e-14,\n",
       "        -7.54257767e-15,  -9.06566489e-14,   1.54702640e-13,\n",
       "         9.95523108e-14,  -2.09172957e-14,   3.46146722e-14,\n",
       "        -3.09474668e-14,  -1.95331598e-13,  -2.16251496e-13,\n",
       "        -6.77935776e-13,  -1.94071929e-12,  -3.71531018e-12,\n",
       "        -3.04977744e-12,   2.39364084e-12,  -2.43030943e-12,\n",
       "        -8.04293090e-12,   2.65967803e-14,   1.65349678e-12,\n",
       "         5.59410157e-13,   9.32587341e-14,   2.67980083e-14,\n",
       "        -6.50521303e-15,   5.04804532e-15,  -3.00974523e-15,\n",
       "         5.93969318e-15,   2.34014197e-15,   2.49453236e-15,\n",
       "         2.49713444e-15,   1.71911096e-15,   2.61075883e-16,\n",
       "         7.26849136e-16,  -2.11741735e-12,  -2.85882429e-15])\n",
       "       x: array([  1.31759622e+01,   1.52627447e+01,   5.34347619e+00,\n",
       "         1.09443890e+00,  -1.52336478e+00,  -4.00551553e-01,\n",
       "         1.05372413e-01,   1.98302999e-01,   6.24031765e-03,\n",
       "        -5.83817912e-02,  -9.45124291e-03,   1.20915754e-02,\n",
       "         7.85859188e-03,  -4.07903611e-03,  -2.30940250e-03,\n",
       "         4.19902894e-04,   1.16781654e-03,  -1.54678958e-04,\n",
       "        -3.11713274e-04,  -6.19074103e-05,   1.44000259e-04,\n",
       "         1.62113559e-05,  -3.30801274e-05,  -2.08761792e-05,\n",
       "         1.57993809e-05,   5.68488337e-06,  -2.42723474e-06,\n",
       "        -4.17058206e-06,   1.46746326e-06,   1.04679139e-06,\n",
       "         6.03990689e-08,  -7.12069942e-07,   9.73464172e-08,\n",
       "         1.29103489e-07,   6.72466568e-08,  -6.63319052e-08,\n",
       "         7.16768756e-01,  -4.54404745e-01,  -3.88392327e-01,\n",
       "         1.91230007e-01,   1.59335747e-02,   3.35098825e-02,\n",
       "        -4.36456193e-02,   1.39256743e-03,   4.86892642e-03,\n",
       "         5.35160481e-03,  -3.10864333e-03,  -1.26718449e-03,\n",
       "         2.55208519e-04,   8.98878820e-04,  -1.88632558e-04,\n",
       "        -2.22547002e-04,  -5.25533381e-05,   1.35178438e-04,\n",
       "         2.72678479e-06,  -2.81345137e-05,  -2.05410724e-05,\n",
       "         1.83434265e-05,   3.94186830e-06,  -2.32465291e-06,\n",
       "        -4.80016317e-06,   2.22528699e-06,   9.25546683e-07,\n",
       "         9.61664897e-08,  -9.44188530e-07,   2.29390981e-07,\n",
       "         1.43902954e-07,   1.13839838e-07,  -1.69078154e-07,\n",
       "         1.54886253e-08,  -1.18699989e-08,   3.33378948e-08])\n",
       " message: 'The solution converged.'\n",
       "    fjac: array([[ -2.19816541e-01,  -1.92941228e-01,  -1.55099446e-01, ...,\n",
       "          4.49162026e-05,   8.94694259e-01,  -9.50132747e-07],\n",
       "       [ -7.62792177e-02,  -6.90069020e-02,  -5.86951242e-02, ...,\n",
       "         -2.71544272e-04,   8.99245311e-02,   4.98992507e-06],\n",
       "       [ -3.23729282e-01,  -2.95135667e-01,  -2.53688320e-01, ...,\n",
       "         -1.51689721e-04,  -2.03453594e-01,   1.20590081e-05],\n",
       "       ..., \n",
       "       [ -1.02718103e-03,   2.29316169e-03,  -2.18673385e-03, ...,\n",
       "         -3.16465308e-02,   9.71793700e-06,   3.21365962e-03],\n",
       "       [ -8.35261453e-04,   2.01452369e-03,  -2.34578630e-03, ...,\n",
       "          2.01754429e-02,   1.52871470e-06,  -1.74979912e-04],\n",
       "       [ -5.01318211e-04,   1.27406851e-03,  -1.65395846e-03, ...,\n",
       "         -9.55875170e-03,  -1.38174025e-06,  -2.12691016e-03]])"
      ]
     },
     "execution_count": 146,
     "metadata": {},
     "output_type": "execute_result"
    }
   ],
   "source": [
    "solver.solve = solver. solve(kind=\"Chebyshev\",\n",
    "                            coefs_dict = initial_guess,\n",
    "                            domain=domain)\n",
    "solver.result"
   ]
  },
  {
   "cell_type": "code",
   "execution_count": 149,
   "metadata": {
    "collapsed": true
   },
   "outputs": [],
   "source": [
    "visualizer = pycollocation.Visualizer(solver)"
   ]
  },
  {
   "cell_type": "code",
   "execution_count": 150,
   "metadata": {
    "collapsed": false
   },
   "outputs": [
    {
     "data": {
      "image/png": "[encoded data removed]",
      "text/plain": [
       "<matplotlib.figure.Figure at 0x10b83d150>"
      ]
     },
     "metadata": {},
     "output_type": "display_data"
    }
   ],
   "source": [
    "plt.scatter(ts, ks)\n",
    "plt.plot(ts, initial_capital_polynomial(ts), 'r-')\n",
    "plt.show()"
   ]
  },
  {
   "cell_type": "code",
   "execution_count": null,
   "metadata": {
    "collapsed": true
   },
   "outputs": [],
   "source": []
  }
 ],
 "metadata": {
  "kernelspec": {
   "display_name": "Python 2",
   "language": "python",
   "name": "python2"
  },
  "language_info": {
   "codemirror_mode": {
    "name": "ipython",
    "version": 2
   },
   "file_extension": ".py",
   "mimetype": "text/x-python",
   "name": "python",
   "nbconvert_exporter": "python",
   "pygments_lexer": "ipython2",
   "version": "2.7.9"
  }
 },
 "nbformat": 4,
 "nbformat_minor": 0
}
